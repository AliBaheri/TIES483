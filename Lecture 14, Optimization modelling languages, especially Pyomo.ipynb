{
 "cells": [
  {
   "cell_type": "code",
   "execution_count": 2,
   "metadata": {
    "collapsed": false
   },
   "outputs": [
    {
     "name": "stdout",
     "output_type": "stream",
     "text": [
      "GLPSOL: GLPK LP/MIP Solver, v4.57\n",
      "Parameter(s) specified in the command line:\n",
      " --write /tmp/tmpSfpc4u.glpk.raw --wglp /tmp/tmpGD8o9u.glpk.glp --cpxlp /tmp/tmpdqSKkN.pyomo.lp\n",
      "Reading problem data from '/tmp/tmpdqSKkN.pyomo.lp'...\n",
      "2 rows, 3 columns, 3 non-zeros\n",
      "21 lines were read\n",
      "Writing problem data to '/tmp/tmpGD8o9u.glpk.glp'...\n",
      "15 lines were written\n",
      "GLPK Simplex Optimizer, v4.57\n",
      "2 rows, 3 columns, 3 non-zeros\n",
      "Preprocessing...\n",
      "1 row, 2 columns, 2 non-zeros\n",
      "Scaling...\n",
      " A: min|aij| =  3.000e+00  max|aij| =  4.000e+00  ratio =  1.333e+00\n",
      "Problem data seem to be well scaled\n",
      "Constructing initial basis...\n",
      "Size of triangular part is 1\n",
      "      0: obj =   0.000000000e+00 inf =   1.000e+00 (1)\n",
      "      1: obj =   7.500000000e-01 inf =   0.000e+00 (0)\n",
      "*     2: obj =   6.666666667e-01 inf =   0.000e+00 (0)\n",
      "OPTIMAL LP SOLUTION FOUND\n",
      "Time used:   0.0 secs\n",
      "Memory used: 0.0 Mb (40416 bytes)\n",
      "Writing basic solution to '/tmp/tmpSfpc4u.glpk.raw'...\n",
      "7 lines were written\n",
      "Solution:\n",
      "x : Size=2, Index=x_index, Domain=NonNegativeReals\n",
      "    Key : Lower : Value          : Upper : Fixed : Stale\n",
      "      1 :     0 : 0.333333333333 :  None : False : False\n",
      "      2 :     0 :            0.0 :  None : False : False\n"
     ]
    }
   ],
   "source": [
    "from pyomo.environ import *\n",
    "from pyomo.opt import SolverFactory\n",
    "\n",
    "model = ConcreteModel()\n",
    "\n",
    "model.x = Var([1,2], domain=NonNegativeReals)\n",
    "\n",
    "model.OBJ = Objective(expr = 2*model.x[1] + 3*model.x[2])\n",
    "\n",
    "model.Constraint1 = Constraint(expr = 3*model.x[1] + 4*model.x[2] >= 1)\n",
    "opt = SolverFactory(\"glpk\")\n",
    "res = opt.solve(model, tee=True)\n",
    "print \"Solution:\"\n",
    "model.x.display()"
   ]
  },
  {
   "cell_type": "code",
   "execution_count": 3,
   "metadata": {
    "collapsed": false
   },
   "outputs": [],
   "source": [
    "from pyomo.environ import *\n",
    "# create the concrete model\n",
    "model = ConcreteModel()\n",
    "# set the data (native python data)\n",
    "k1 = 5.0/6.0 # min-1\n",
    "k2 = 5.0/3.0 # min-1\n",
    "k3 = 1.0/6000.0 # m3/(gmol min)\n",
    "caf = 10000.0 # gmol/m3\n",
    "# create the variables\n",
    "model.sv = Var(initialize = 1.0, within=PositiveReals)\n",
    "model.ca = Var(initialize = 5000.0, within=PositiveReals)\n",
    "model.cb = Var(initialize = 2000.0, within=PositiveReals)\n",
    "model.cc = Var(initialize = 2000.0, within=PositiveReals)\n",
    "model.cd = Var(initialize = 1000.0, within=PositiveReals)\n",
    "\n",
    "# create the objective\n",
    "model.obj = Objective(expr = model.cb, sense=maximize)\n",
    "# create the constraints\n",
    "model.ca_bal = Constraint(expr = (0 == model.sv * caf \\\n",
    "    - model.sv * model.ca - k1 * model.ca \\\n",
    "    - 2.0 * k3 * model.ca ** 2.0))\n",
    "model.cb_bal = Constraint(expr=(0 == -model.sv * model.cb \\\n",
    "    + k1 * model.ca - k2 * model.cb))\n",
    "model.cc_bal = Constraint(expr=(0 == -model.sv * model.cc \\\n",
    "    + k2 * model.cb))\n",
    "model.cd_bal = Constraint(expr=(0 == -model.sv * model.cd \\\n",
    "    + k3 * model.ca ** 2.0))"
   ]
  },
  {
   "cell_type": "code",
   "execution_count": 6,
   "metadata": {
    "collapsed": false
   },
   "outputs": [
    {
     "name": "stderr",
     "output_type": "stream",
     "text": [
      "ERROR:pyomo.opt:Solver (asl) returned non-zero return code (-11)\n",
      "ERROR:pyomo.opt:See the solver log above for diagnostic information.\n"
     ]
    },
    {
     "name": "stdout",
     "output_type": "stream",
     "text": [
      "ERROR: \"[base]/site-packages/pyomo/opt/base/solvers.py\", 568, solve\n",
      "\tSolver (asl) returned non-zero return code (-11)\n",
      "ERROR: \"[base]/site-packages/pyomo/opt/base/solvers.py\", 571, solve\n",
      "\tSee the solver log above for diagnostic information.\n"
     ]
    },
    {
     "ename": "ApplicationError",
     "evalue": "Solver (asl) did not exit normally",
     "output_type": "error",
     "traceback": [
      "\u001b[1;31m---------------------------------------------------------------------------\u001b[0m",
      "\u001b[1;31mApplicationError\u001b[0m                          Traceback (most recent call last)",
      "\u001b[1;32m<ipython-input-6-015b93351eb7>\u001b[0m in \u001b[0;36m<module>\u001b[1;34m()\u001b[0m\n\u001b[0;32m      1\u001b[0m \u001b[0mopt\u001b[0m \u001b[1;33m=\u001b[0m \u001b[0mSolverFactory\u001b[0m\u001b[1;33m(\u001b[0m\u001b[1;34m\"ipopt\"\u001b[0m\u001b[1;33m,\u001b[0m\u001b[0msolver_io\u001b[0m\u001b[1;33m=\u001b[0m\u001b[1;34m'nl'\u001b[0m\u001b[1;33m)\u001b[0m\u001b[1;33m\u001b[0m\u001b[0m\n\u001b[1;32m----> 2\u001b[1;33m \u001b[0mopt\u001b[0m\u001b[1;33m.\u001b[0m\u001b[0msolve\u001b[0m\u001b[1;33m(\u001b[0m\u001b[0mmodel\u001b[0m\u001b[1;33m,\u001b[0m\u001b[0mtee\u001b[0m\u001b[1;33m=\u001b[0m\u001b[0mTrue\u001b[0m\u001b[1;33m)\u001b[0m\u001b[1;33m\u001b[0m\u001b[0m\n\u001b[0m",
      "\u001b[1;32m/usr/lib/python2.7/site-packages/pyomo/opt/base/solvers.pyc\u001b[0m in \u001b[0;36msolve\u001b[1;34m(self, *args, **kwds)\u001b[0m\n\u001b[0;32m    573\u001b[0m                     \u001b[0mlogger\u001b[0m\u001b[1;33m.\u001b[0m\u001b[0merror\u001b[0m\u001b[1;33m(\u001b[0m\u001b[1;34m\"Solver log:\\n\"\u001b[0m \u001b[1;33m+\u001b[0m \u001b[0mstr\u001b[0m\u001b[1;33m(\u001b[0m\u001b[0m_status\u001b[0m\u001b[1;33m.\u001b[0m\u001b[0mlog\u001b[0m\u001b[1;33m)\u001b[0m\u001b[1;33m)\u001b[0m\u001b[1;33m\u001b[0m\u001b[0m\n\u001b[0;32m    574\u001b[0m                 raise pyutilib.common.ApplicationError(\n\u001b[1;32m--> 575\u001b[1;33m                     \"Solver (%s) did not exit normally\" % self.name)\n\u001b[0m\u001b[0;32m    576\u001b[0m             \u001b[0msolve_completion_time\u001b[0m \u001b[1;33m=\u001b[0m \u001b[0mtime\u001b[0m\u001b[1;33m.\u001b[0m\u001b[0mtime\u001b[0m\u001b[1;33m(\u001b[0m\u001b[1;33m)\u001b[0m\u001b[1;33m\u001b[0m\u001b[0m\n\u001b[0;32m    577\u001b[0m \u001b[1;33m\u001b[0m\u001b[0m\n",
      "\u001b[1;31mApplicationError\u001b[0m: Solver (asl) did not exit normally"
     ]
    }
   ],
   "source": [
    "opt = SolverFactory(\"ipopt\",solver_io='nl')\n",
    "opt.solve(model,tee=True)"
   ]
  },
  {
   "cell_type": "code",
   "execution_count": 7,
   "metadata": {
    "collapsed": false
   },
   "outputs": [
    {
     "name": "stderr",
     "output_type": "stream",
     "text": [
      "/opt/Bonmin-stable/bin/bonmin: error while loading shared libraries: libcoinmumps.so.1: cannot open shared object file: No such file or directory\n",
      "ERROR:pyomo.opt:Solver (asl) returned non-zero return code (127)\n",
      "ERROR:pyomo.opt:See the solver log above for diagnostic information.\n"
     ]
    },
    {
     "name": "stdout",
     "output_type": "stream",
     "text": [
      "ERROR: \"[base]/site-packages/pyomo/opt/base/solvers.py\", 568, solve\n",
      "\tSolver (asl) returned non-zero return code (127)\n",
      "ERROR: \"[base]/site-packages/pyomo/opt/base/solvers.py\", 571, solve\n",
      "\tSee the solver log above for diagnostic information.\n"
     ]
    },
    {
     "ename": "ApplicationError",
     "evalue": "Solver (asl) did not exit normally",
     "output_type": "error",
     "traceback": [
      "\u001b[1;31m---------------------------------------------------------------------------\u001b[0m",
      "\u001b[1;31mApplicationError\u001b[0m                          Traceback (most recent call last)",
      "\u001b[1;32m<ipython-input-7-bc5d76fc8085>\u001b[0m in \u001b[0;36m<module>\u001b[1;34m()\u001b[0m\n\u001b[0;32m      1\u001b[0m \u001b[0mopt\u001b[0m \u001b[1;33m=\u001b[0m \u001b[0mSolverFactory\u001b[0m\u001b[1;33m(\u001b[0m\u001b[1;34m\"bonmin\"\u001b[0m\u001b[1;33m,\u001b[0m\u001b[0msolver_io\u001b[0m\u001b[1;33m=\u001b[0m\u001b[1;34m'nl'\u001b[0m\u001b[1;33m)\u001b[0m\u001b[1;33m\u001b[0m\u001b[0m\n\u001b[1;32m----> 2\u001b[1;33m \u001b[0mopt\u001b[0m\u001b[1;33m.\u001b[0m\u001b[0msolve\u001b[0m\u001b[1;33m(\u001b[0m\u001b[0mmodel\u001b[0m\u001b[1;33m,\u001b[0m\u001b[0mtee\u001b[0m\u001b[1;33m=\u001b[0m\u001b[0mTrue\u001b[0m\u001b[1;33m)\u001b[0m\u001b[1;33m\u001b[0m\u001b[0m\n\u001b[0m",
      "\u001b[1;32m/usr/lib/python2.7/site-packages/pyomo/opt/base/solvers.pyc\u001b[0m in \u001b[0;36msolve\u001b[1;34m(self, *args, **kwds)\u001b[0m\n\u001b[0;32m    573\u001b[0m                     \u001b[0mlogger\u001b[0m\u001b[1;33m.\u001b[0m\u001b[0merror\u001b[0m\u001b[1;33m(\u001b[0m\u001b[1;34m\"Solver log:\\n\"\u001b[0m \u001b[1;33m+\u001b[0m \u001b[0mstr\u001b[0m\u001b[1;33m(\u001b[0m\u001b[0m_status\u001b[0m\u001b[1;33m.\u001b[0m\u001b[0mlog\u001b[0m\u001b[1;33m)\u001b[0m\u001b[1;33m)\u001b[0m\u001b[1;33m\u001b[0m\u001b[0m\n\u001b[0;32m    574\u001b[0m                 raise pyutilib.common.ApplicationError(\n\u001b[1;32m--> 575\u001b[1;33m                     \"Solver (%s) did not exit normally\" % self.name)\n\u001b[0m\u001b[0;32m    576\u001b[0m             \u001b[0msolve_completion_time\u001b[0m \u001b[1;33m=\u001b[0m \u001b[0mtime\u001b[0m\u001b[1;33m.\u001b[0m\u001b[0mtime\u001b[0m\u001b[1;33m(\u001b[0m\u001b[1;33m)\u001b[0m\u001b[1;33m\u001b[0m\u001b[0m\n\u001b[0;32m    577\u001b[0m \u001b[1;33m\u001b[0m\u001b[0m\n",
      "\u001b[1;31mApplicationError\u001b[0m: Solver (asl) did not exit normally"
     ]
    }
   ],
   "source": [
    "opt = SolverFactory(\"bonmin\",solver_io='nl')\n",
    "opt.solve(model,tee=True)"
   ]
  },
  {
   "cell_type": "code",
   "execution_count": 27,
   "metadata": {
    "collapsed": false
   },
   "outputs": [
    {
     "ename": "AttributeError",
     "evalue": "'RealProblem1' object has no attribute 'component_data_objects'",
     "output_type": "error",
     "traceback": [
      "\u001b[1;31m---------------------------------------------------------------------------\u001b[0m",
      "\u001b[1;31mAttributeError\u001b[0m                            Traceback (most recent call last)",
      "\u001b[1;32m<ipython-input-27-688272c30f2a>\u001b[0m in \u001b[0;36m<module>\u001b[1;34m()\u001b[0m\n\u001b[0;32m     17\u001b[0m \u001b[1;33m\u001b[0m\u001b[0m\n\u001b[0;32m     18\u001b[0m \u001b[0mopt\u001b[0m \u001b[1;33m=\u001b[0m \u001b[0mSolverFactory\u001b[0m\u001b[1;33m(\u001b[0m\u001b[1;34m\"ipopt\"\u001b[0m\u001b[1;33m,\u001b[0m\u001b[0msolver_io\u001b[0m\u001b[1;33m=\u001b[0m\u001b[1;34m'nl'\u001b[0m\u001b[1;33m)\u001b[0m\u001b[1;33m\u001b[0m\u001b[0m\n\u001b[1;32m---> 19\u001b[1;33m \u001b[0mopt\u001b[0m\u001b[1;33m.\u001b[0m\u001b[0msolve\u001b[0m\u001b[1;33m(\u001b[0m\u001b[0mproblem\u001b[0m\u001b[1;33m,\u001b[0m\u001b[0mtee\u001b[0m\u001b[1;33m=\u001b[0m\u001b[0mTrue\u001b[0m\u001b[1;33m)\u001b[0m\u001b[1;33m\u001b[0m\u001b[0m\n\u001b[0m",
      "\u001b[1;32m/usr/lib/python2.7/site-packages/pyomo/opt/base/solvers.pyc\u001b[0m in \u001b[0;36msolve\u001b[1;34m(self, *args, **kwds)\u001b[0m\n\u001b[0;32m    548\u001b[0m             \u001b[0minitial_time\u001b[0m \u001b[1;33m=\u001b[0m \u001b[0mtime\u001b[0m\u001b[1;33m.\u001b[0m\u001b[0mtime\u001b[0m\u001b[1;33m(\u001b[0m\u001b[1;33m)\u001b[0m\u001b[1;33m\u001b[0m\u001b[0m\n\u001b[0;32m    549\u001b[0m \u001b[1;33m\u001b[0m\u001b[0m\n\u001b[1;32m--> 550\u001b[1;33m             \u001b[0mself\u001b[0m\u001b[1;33m.\u001b[0m\u001b[0m_presolve\u001b[0m\u001b[1;33m(\u001b[0m\u001b[1;33m*\u001b[0m\u001b[0margs\u001b[0m\u001b[1;33m,\u001b[0m \u001b[1;33m**\u001b[0m\u001b[0mkwds\u001b[0m\u001b[1;33m)\u001b[0m\u001b[1;33m\u001b[0m\u001b[0m\n\u001b[0m\u001b[0;32m    551\u001b[0m \u001b[1;33m\u001b[0m\u001b[0m\n\u001b[0;32m    552\u001b[0m             \u001b[0mpresolve_completion_time\u001b[0m \u001b[1;33m=\u001b[0m \u001b[0mtime\u001b[0m\u001b[1;33m.\u001b[0m\u001b[0mtime\u001b[0m\u001b[1;33m(\u001b[0m\u001b[1;33m)\u001b[0m\u001b[1;33m\u001b[0m\u001b[0m\n",
      "\u001b[1;32m/usr/lib/python2.7/site-packages/pyomo/solvers/plugins/solvers/ASL.pyc\u001b[0m in \u001b[0;36m_presolve\u001b[1;34m(self, *args, **kwds)\u001b[0m\n\u001b[0;32m    175\u001b[0m             \u001b[0mself\u001b[0m\u001b[1;33m.\u001b[0m\u001b[0m_instance\u001b[0m \u001b[1;33m=\u001b[0m \u001b[0margs\u001b[0m\u001b[1;33m[\u001b[0m\u001b[1;36m0\u001b[0m\u001b[1;33m]\u001b[0m\u001b[1;33m\u001b[0m\u001b[0m\n\u001b[0;32m    176\u001b[0m             \u001b[0mxfrm\u001b[0m \u001b[1;33m=\u001b[0m \u001b[0mTransformationFactory\u001b[0m\u001b[1;33m(\u001b[0m\u001b[1;34m'mpec.nl'\u001b[0m\u001b[1;33m)\u001b[0m\u001b[1;33m\u001b[0m\u001b[0m\n\u001b[1;32m--> 177\u001b[1;33m             \u001b[0mxfrm\u001b[0m\u001b[1;33m.\u001b[0m\u001b[0mapply_to\u001b[0m\u001b[1;33m(\u001b[0m\u001b[0mself\u001b[0m\u001b[1;33m.\u001b[0m\u001b[0m_instance\u001b[0m\u001b[1;33m)\u001b[0m\u001b[1;33m\u001b[0m\u001b[0m\n\u001b[0m\u001b[0;32m    178\u001b[0m             \u001b[1;32mif\u001b[0m \u001b[0mlen\u001b[0m\u001b[1;33m(\u001b[0m\u001b[0mself\u001b[0m\u001b[1;33m.\u001b[0m\u001b[0m_instance\u001b[0m\u001b[1;33m.\u001b[0m\u001b[0m_transformation_data\u001b[0m\u001b[1;33m[\u001b[0m\u001b[1;34m'mpec.nl'\u001b[0m\u001b[1;33m]\u001b[0m\u001b[1;33m.\u001b[0m\u001b[0mcompl_cuids\u001b[0m\u001b[1;33m)\u001b[0m \u001b[1;33m==\u001b[0m \u001b[1;36m0\u001b[0m\u001b[1;33m:\u001b[0m\u001b[1;33m\u001b[0m\u001b[0m\n\u001b[0;32m    179\u001b[0m                 \u001b[1;31m# There were no complementarity conditions\u001b[0m\u001b[1;33m\u001b[0m\u001b[1;33m\u001b[0m\u001b[0m\n",
      "\u001b[1;32m/usr/lib/python2.7/site-packages/pyomo/core/base/plugin.pyc\u001b[0m in \u001b[0;36mapply_to\u001b[1;34m(self, model, **kwds)\u001b[0m\n\u001b[0;32m    321\u001b[0m         \u001b[1;32mif\u001b[0m \u001b[1;32mnot\u001b[0m \u001b[0mhasattr\u001b[0m\u001b[1;33m(\u001b[0m\u001b[0mmodel\u001b[0m\u001b[1;33m,\u001b[0m \u001b[1;34m'_transformation_data'\u001b[0m\u001b[1;33m)\u001b[0m\u001b[1;33m:\u001b[0m\u001b[1;33m\u001b[0m\u001b[0m\n\u001b[0;32m    322\u001b[0m             \u001b[0mmodel\u001b[0m\u001b[1;33m.\u001b[0m\u001b[0m_transformation_data\u001b[0m \u001b[1;33m=\u001b[0m \u001b[0mTransformationData\u001b[0m\u001b[1;33m(\u001b[0m\u001b[1;33m)\u001b[0m\u001b[1;33m\u001b[0m\u001b[0m\n\u001b[1;32m--> 323\u001b[1;33m         \u001b[0mself\u001b[0m\u001b[1;33m.\u001b[0m\u001b[0m_apply_to\u001b[0m\u001b[1;33m(\u001b[0m\u001b[0mmodel\u001b[0m\u001b[1;33m,\u001b[0m \u001b[1;33m**\u001b[0m\u001b[0mkwds\u001b[0m\u001b[1;33m)\u001b[0m\u001b[1;33m\u001b[0m\u001b[0m\n\u001b[0m\u001b[0;32m    324\u001b[0m \u001b[1;33m\u001b[0m\u001b[0m\n\u001b[0;32m    325\u001b[0m     \u001b[1;32mdef\u001b[0m \u001b[0mcreate_using\u001b[0m\u001b[1;33m(\u001b[0m\u001b[0mself\u001b[0m\u001b[1;33m,\u001b[0m \u001b[0mmodel\u001b[0m\u001b[1;33m,\u001b[0m \u001b[1;33m**\u001b[0m\u001b[0mkwds\u001b[0m\u001b[1;33m)\u001b[0m\u001b[1;33m:\u001b[0m\u001b[1;33m\u001b[0m\u001b[0m\n",
      "\u001b[1;32m/usr/lib/python2.7/site-packages/pyomo/mpec/plugins/mpec4.pyc\u001b[0m in \u001b[0;36m_apply_to\u001b[1;34m(self, instance, **kwds)\u001b[0m\n\u001b[0;32m     42\u001b[0m         \u001b[0mfree_vars\u001b[0m \u001b[1;33m=\u001b[0m \u001b[1;33m{\u001b[0m\u001b[1;33m}\u001b[0m\u001b[1;33m\u001b[0m\u001b[0m\n\u001b[0;32m     43\u001b[0m         \u001b[0mid_list\u001b[0m \u001b[1;33m=\u001b[0m \u001b[1;33m[\u001b[0m\u001b[1;33m]\u001b[0m\u001b[1;33m\u001b[0m\u001b[0m\n\u001b[1;32m---> 44\u001b[1;33m         \u001b[1;32mfor\u001b[0m \u001b[0mvdata\u001b[0m \u001b[1;32min\u001b[0m \u001b[0minstance\u001b[0m\u001b[1;33m.\u001b[0m\u001b[0mcomponent_data_objects\u001b[0m\u001b[1;33m(\u001b[0m\u001b[0mVar\u001b[0m\u001b[1;33m,\u001b[0m \u001b[0mactive\u001b[0m\u001b[1;33m=\u001b[0m\u001b[0mTrue\u001b[0m\u001b[1;33m,\u001b[0m \u001b[0msort\u001b[0m\u001b[1;33m=\u001b[0m\u001b[0mSortComponents\u001b[0m\u001b[1;33m.\u001b[0m\u001b[0mdeterministic\u001b[0m\u001b[1;33m)\u001b[0m\u001b[1;33m:\u001b[0m\u001b[1;33m\u001b[0m\u001b[0m\n\u001b[0m\u001b[0;32m     45\u001b[0m             \u001b[0mid_list\u001b[0m\u001b[1;33m.\u001b[0m\u001b[0mappend\u001b[0m\u001b[1;33m(\u001b[0m \u001b[0mid\u001b[0m\u001b[1;33m(\u001b[0m\u001b[0mvdata\u001b[0m\u001b[1;33m)\u001b[0m \u001b[1;33m)\u001b[0m\u001b[1;33m\u001b[0m\u001b[0m\n\u001b[0;32m     46\u001b[0m             \u001b[0mfree_vars\u001b[0m\u001b[1;33m[\u001b[0m\u001b[0mid\u001b[0m\u001b[1;33m(\u001b[0m\u001b[0mvdata\u001b[0m\u001b[1;33m)\u001b[0m\u001b[1;33m]\u001b[0m \u001b[1;33m=\u001b[0m \u001b[0mvdata\u001b[0m\u001b[1;33m\u001b[0m\u001b[0m\n",
      "\u001b[1;31mAttributeError\u001b[0m: 'RealProblem1' object has no attribute 'component_data_objects'"
     ]
    }
   ],
   "source": [
    "import sys\n",
    "from pyomo.opt.blackbox import RealOptProblem\n",
    "\n",
    "class RealProblem1(RealOptProblem):\n",
    "\n",
    "    def __init__(self):\n",
    "        RealOptProblem.__init__(self)\n",
    "        self.lower=[0.0, -1.0, 1.0, None]\n",
    "        self.upper=[None, 0.0, 2.0, -1.0]\n",
    "        self.nvars=4\n",
    "\n",
    "    def function_value(self, point):\n",
    "        self.validate(point)\n",
    "        return point.vars[0] - point.vars[1] + (point.vars[2]-1.5)**2 + (point.vars[3]+2)**4\n",
    "\n",
    "problem = RealProblem1()\n"
   ]
  }
 ],
 "metadata": {
  "kernelspec": {
   "display_name": "Python 2",
   "language": "python",
   "name": "python2"
  },
  "language_info": {
   "codemirror_mode": {
    "name": "ipython",
    "version": 2
   },
   "file_extension": ".py",
   "mimetype": "text/x-python",
   "name": "python",
   "nbconvert_exporter": "python",
   "pygments_lexer": "ipython2",
   "version": "2.7.11"
  }
 },
 "nbformat": 4,
 "nbformat_minor": 0
}
