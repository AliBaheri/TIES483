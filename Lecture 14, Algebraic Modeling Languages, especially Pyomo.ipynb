{
 "cells": [
  {
   "cell_type": "markdown",
   "metadata": {
    "slideshow": {
     "slide_type": "slide"
    }
   },
   "source": [
    "# Lecture 14, Algebraic Modeling Languages"
   ]
  },
  {
   "cell_type": "markdown",
   "metadata": {},
   "source": [
    "Algebraic Modeling Languages (AML) are high-level computer programming languages for describing and solving high complexity problems for large scale mathematical computation (i.e. large scale optimization type problems).  Their syntax mimics the mathematical notation of optimization problems, which allows one to express optimization problems in a familiar, concise and readable way. \n",
    "\n",
    "**AMLs do not directly solve the problem, but they call appropriate external solvers to find the solution.**\n",
    "\n",
    "Examples of AMLs are\n",
    "* A Mathematical Programming Language (AMPL),\n",
    "* General Algebraic Modeling System (GAMS),\n",
    "* Optimization Programming Language (OPL),\n",
    "* Advanced Interactive Multidimensional Modeling System (AIMMS), and\n",
    "* Pyomo."
   ]
  },
  {
   "cell_type": "markdown",
   "metadata": {},
   "source": [
    "In addition to the ease of modelling, one of the advantages of AMLs is that you can model the problem once and then solve it with multiple solvers."
   ]
  },
  {
   "cell_type": "markdown",
   "metadata": {
    "slideshow": {
     "slide_type": "slide"
    }
   },
   "source": [
    "## Pyomo"
   ]
  },
  {
   "cell_type": "markdown",
   "metadata": {},
   "source": [
    "On this course, we use Pyomo as an example of AMLs. Pyomo is a Python-based, open-source optimization modeling language with a diverse set of optimization capabilities.\n",
    "\n",
    "Pyomo may not be a completely typical AML, because Pyomo's modeling objects are embedded within a full-featured high-level programming language providing a rich set of supporting libraries, which distinguishes Pyomo from other AMLs.\n",
    "\n",
    "Pyomo supports a wide range of problem types, including:\n",
    "* Linear programming\n",
    "* Quadratic programming\n",
    "* Nonlinear programming\n",
    "* Mixed-integer linear programming\n",
    "* Mixed-integer quadratic programming\n",
    "* Mixed-integer nonlinear programming\n",
    "* Stochastic programming\n",
    "* Generalized disjunctive programming\n",
    "* Differential algebraic equations\n",
    "* Bilevel programming\n",
    "* Mathematical programs with equilibrium constraints"
   ]
  },
  {
   "cell_type": "markdown",
   "metadata": {
    "slideshow": {
     "slide_type": "slide"
    }
   },
   "source": [
    "# Installing Pyomo\n",
    "\n",
    "The easiest way to install Pyomo is to call\n",
    "```\n",
    "pip install pyomo\n",
    "```\n",
    "when pip has been installed on your machine."
   ]
  },
  {
   "cell_type": "markdown",
   "metadata": {
    "slideshow": {
     "slide_type": "slide"
    }
   },
   "source": [
    "## Example 1, linear optimization"
   ]
  },
  {
   "cell_type": "markdown",
   "metadata": {},
   "source": [
    "Let us start with a very simple linear problem\n",
    "$$\n",
    "\\begin{align}\n",
    "\\min &\\qquad   2x_1+3x_2\\\\\n",
    "\\text{s.t. }& \\qquad 2x_1+3x_2\\geq 1\\\\\n",
    "& \\qquad x_1,x_2\\geq 0.\n",
    "\\end{align}\n",
    "$$"
   ]
  },
  {
   "cell_type": "code",
   "execution_count": 12,
   "metadata": {
    "collapsed": false,
    "slideshow": {
     "slide_type": "-"
    }
   },
   "outputs": [],
   "source": [
    "from pyomo.environ import *\n",
    "\n",
    "\n",
    "model = ConcreteModel()\n",
    "\n",
    "model.x = Var([1,2], domain=NonNegativeReals) #Non-negative variables x[1] and x[2]\n",
    "\n",
    "model.OBJ = Objective(expr = 2*model.x[1] + 3*model.x[2]) #Objective function\n",
    "\n",
    "model.Constraint1 = Constraint(expr = 3*model.x[1] + 4*model.x[2] >= 1) #Constraint\n"
   ]
  },
  {
   "cell_type": "markdown",
   "metadata": {
    "slideshow": {
     "slide_type": "subslide"
    }
   },
   "source": [
    "Once we have defined the problem, we can solve it. Let us start by using glpk, which is an open source linear programming program.\n",
    "\n",
    "You need to have glpk installed on your system. For details, see https://www.gnu.org/software/glpk/#TOCdownloading. For many Linux distributions, you can install glpk from the repositories by typing\n",
    "```\n",
    "sudo yum install glpk\n",
    "```\n",
    "```\n",
    "sudo apt-get install glpk,\n",
    "```\n",
    "or whatever your distribution needs.\n"
   ]
  },
  {
   "cell_type": "code",
   "execution_count": 5,
   "metadata": {
    "collapsed": false
   },
   "outputs": [
    {
     "name": "stdout",
     "output_type": "stream",
     "text": [
      "GLPSOL: GLPK LP/MIP Solver, v4.52\n",
      "Parameter(s) specified in the command line:\n",
      " --write /tmp/tmpAfP0nw.glpk.raw --wglp /tmp/tmpOz7bG8.glpk.glp --cpxlp /tmp/tmpnK7MYT.pyomo.lp\n",
      "Reading problem data from '/tmp/tmpnK7MYT.pyomo.lp'...\n",
      "2 rows, 3 columns, 3 non-zeros\n",
      "21 lines were read\n",
      "Writing problem data to `/tmp/tmpOz7bG8.glpk.glp'...\n",
      "15 lines were written\n",
      "GLPK Simplex Optimizer, v4.52\n",
      "2 rows, 3 columns, 3 non-zeros\n",
      "Preprocessing...\n",
      "1 row, 2 columns, 2 non-zeros\n",
      "Scaling...\n",
      " A: min|aij| =  3.000e+00  max|aij| =  4.000e+00  ratio =  1.333e+00\n",
      "Problem data seem to be well scaled\n",
      "Constructing initial basis...\n",
      "Size of triangular part is 1\n",
      "      0: obj =   0.000000000e+00  infeas =  1.000e+00 (0)\n",
      "*     1: obj =   7.500000000e-01  infeas =  0.000e+00 (0)\n",
      "*     2: obj =   6.666666667e-01  infeas =  0.000e+00 (0)\n",
      "OPTIMAL LP SOLUTION FOUND\n",
      "Time used:   0.0 secs\n",
      "Memory used: 0.0 Mb (40408 bytes)\n",
      "Writing basic solution to `/tmp/tmpAfP0nw.glpk.raw'...\n",
      "7 lines were written\n",
      "Solution:\n",
      "=========\n",
      "x : Size=2, Index=x_index, Domain=NonNegativeReals\n",
      "    Key : Lower : Value          : Upper : Fixed : Stale\n",
      "      1 :     0 : 0.333333333333 :  None : False : False\n",
      "      2 :     0 :            0.0 :  None : False : False\n"
     ]
    }
   ],
   "source": [
    "from pyomo.opt import SolverFactory #Import interfaces to solvers\n",
    "opt = SolverFactory(\"glpk\") #Use glpk\n",
    "res = opt.solve(model, tee=True) #Solve the  problem and print the output\n",
    "print \"Solution:\"\n",
    "print \"=========\"\n",
    "model.x.display() #Print values of x"
   ]
  },
  {
   "cell_type": "markdown",
   "metadata": {
    "slideshow": {
     "slide_type": "subslide"
    }
   },
   "source": [
    "Now, if you have other linear solvers installed on your system, you can use them too. Let us use Cplex, which is a commercial solvers (academic license available)."
   ]
  },
  {
   "cell_type": "code",
   "execution_count": 6,
   "metadata": {
    "collapsed": false,
    "slideshow": {
     "slide_type": "-"
    }
   },
   "outputs": [
    {
     "name": "stdout",
     "output_type": "stream",
     "text": [
      "\n",
      "Welcome to IBM(R) ILOG(R) CPLEX(R) Interactive Optimizer 12.6.2.0\n",
      "  with Simplex, Mixed Integer & Barrier Optimizers\n",
      "5725-A06 5725-A29 5724-Y48 5724-Y49 5724-Y54 5724-Y55 5655-Y21\n",
      "Copyright IBM Corp. 1988, 2015.  All Rights Reserved.\n",
      "\n",
      "Type 'help' for a list of available commands.\n",
      "Type 'help' followed by a command name for more\n",
      "information on commands.\n",
      "\n",
      "CPLEX> Logfile 'cplex.log' closed.\n",
      "Logfile '/tmp/tmpaGJg1Q.cplex.log' open.\n",
      "CPLEX> Problem '/tmp/tmpYBzsUS.pyomo.lp' read.\n",
      "Read time = 0.00 sec. (0.00 ticks)\n",
      "CPLEX> Problem name         : /tmp/tmpYBzsUS.pyomo.lp\n",
      "Objective sense      : Minimize\n",
      "Variables            :       3\n",
      "Objective nonzeros   :       2\n",
      "Linear constraints   :       2  [Greater: 1,  Equal: 1]\n",
      "  Nonzeros           :       3\n",
      "  RHS nonzeros       :       2\n",
      "\n",
      "Variables            : Min LB: 0.000000         Max UB: all infinite   \n",
      "Objective nonzeros   : Min   : 2.000000         Max   : 3.000000       \n",
      "Linear constraints   :\n",
      "  Nonzeros           : Min   : 1.000000         Max   : 4.000000       \n",
      "  RHS nonzeros       : Min   : 1.000000         Max   : 1.000000       \n",
      "CPLEX> Tried aggregator 1 time.\n",
      "LP Presolve eliminated 2 rows and 3 columns.\n",
      "All rows and columns eliminated.\n",
      "Presolve time = 0.00 sec. (0.00 ticks)\n",
      "\n",
      "Dual simplex - Optimal:  Objective =  6.6666666667e-01\n",
      "Solution time =    0.00 sec.  Iterations = 0 (0)\n",
      "Deterministic time = 0.00 ticks  (2.72 ticks/sec)\n",
      "\n",
      "CPLEX> Solution written to file '/tmp/tmpFNF4Gq.cplex.sol'.\n",
      "CPLEX> Solution:\n",
      "x : Size=2, Index=x_index, Domain=NonNegativeReals\n",
      "    Key : Lower : Value          : Upper : Fixed : Stale\n",
      "      1 :     0 : 0.333333333333 :  None : False : False\n",
      "      2 :     0 :            0.0 :  None : False : False\n"
     ]
    }
   ],
   "source": [
    "opt = SolverFactory(\"cplex\")\n",
    "res = opt.solve(model, tee=True)\n",
    "print \"Solution:\"\n",
    "model.x.display()"
   ]
  },
  {
   "cell_type": "markdown",
   "metadata": {
    "slideshow": {
     "slide_type": "subslide"
    }
   },
   "source": [
    "We can use also gurobi, which is another commercial solver with academic license."
   ]
  },
  {
   "cell_type": "code",
   "execution_count": 13,
   "metadata": {
    "collapsed": false
   },
   "outputs": [
    {
     "name": "stdout",
     "output_type": "stream",
     "text": [
      "Optimize a model with 2 rows, 3 columns and 3 nonzeros\n",
      "Coefficient statistics:\n",
      "  Matrix range    [1e+00, 4e+00]\n",
      "  Objective range [2e+00, 3e+00]\n",
      "  Bounds range    [0e+00, 0e+00]\n",
      "  RHS range       [1e+00, 1e+00]\n",
      "Presolve removed 2 rows and 3 columns\n",
      "Presolve time: 0.00s\n",
      "Presolve: All rows and columns removed\n",
      "Iteration    Objective       Primal Inf.    Dual Inf.      Time\n",
      "       0    6.6666667e-01   0.000000e+00   0.000000e+00      0s\n",
      "\n",
      "Solved in 0 iterations and 0.00 seconds\n",
      "Optimal objective  6.666666667e-01\n",
      "Solution:\n",
      "x : Size=2, Index=x_index, Domain=NonNegativeReals\n",
      "    Key : Lower : Value          : Upper : Fixed : Stale\n",
      "      1 :     0 : 0.333333333333 :  None : False : False\n",
      "      2 :     0 :            0.0 :  None : False : False\n"
     ]
    }
   ],
   "source": [
    "opt = SolverFactory(\"gurobi\")\n",
    "res = opt.solve(model, tee=True)\n",
    "print \"Solution:\"\n",
    "model.x.display()"
   ]
  },
  {
   "cell_type": "markdown",
   "metadata": {
    "slideshow": {
     "slide_type": "slide"
    }
   },
   "source": [
    "## Example 2, nonlinear optimization"
   ]
  },
  {
   "cell_type": "markdown",
   "metadata": {},
   "source": [
    "Let use define optimizaiton problem\n",
    "$$\n",
    "\\begin{align}\n",
    "\\min &\\qquad c_d\\\\\n",
    "\\text{s.t. }& \\qquad c_{af}*s_v - s_v*c_a-k_1*c_a=0\\\\\n",
    "&\\qquad s_v*c_b+k_1*c_a-k_2*c_b=0\\\\\n",
    "&\\qquad s_v*c_c+k_2*c_b=0\\\\\n",
    "&\\qquad s_v*c_d+k_3*c_a^2=0,\\\\\n",
    "&\\qquad s_v,c_a,c_b,c_c,c_d\\geq0\n",
    "\\end{align}\n",
    "$$\n",
    "where $k_1=5/6$, $k_2=5/3$, $k_3=1/6000$, and $c_{af}=10000$."
   ]
  },
  {
   "cell_type": "code",
   "execution_count": 8,
   "metadata": {
    "collapsed": false
   },
   "outputs": [],
   "source": [
    "from pyomo.environ import *\n",
    "# create the concrete model\n",
    "model = ConcreteModel()\n",
    "# set the data (native python data)\n",
    "k1 = 5.0/6.0 # min-1\n",
    "k2 = 5.0/3.0 # min-1\n",
    "k3 = 1.0/6000.0 # m3/(gmol min)\n",
    "caf = 10000.0 # gmol/m3\n",
    "# create the variables\n",
    "model.sv = Var(initialize = 1.0, within=PositiveReals)\n",
    "model.ca = Var(initialize = 5000.0, within=PositiveReals)\n",
    "model.cb = Var(initialize = 2000.0, within=PositiveReals)\n",
    "model.cc = Var(initialize = 2000.0, within=PositiveReals)\n",
    "model.cd = Var(initialize = 1000.0, within=PositiveReals)\n",
    "\n",
    "# create the objective\n",
    "model.obj = Objective(expr = model.cb, sense=maximize)\n",
    "# create the constraints\n",
    "model.ca_bal = Constraint(expr = (0 == model.sv * caf \\\n",
    "    - model.sv * model.ca - k1 * model.ca \\\n",
    "    - 2.0 * k3 * model.ca ** 2.0))\n",
    "model.cb_bal = Constraint(expr=(0 == -model.sv * model.cb \\\n",
    "    + k1 * model.ca - k2 * model.cb))\n",
    "model.cc_bal = Constraint(expr=(0 == -model.sv * model.cc \\\n",
    "    + k2 * model.cb))\n",
    "model.cd_bal = Constraint(expr=(0 == -model.sv * model.cd \\\n",
    "    + k3 * model.ca ** 2.0))"
   ]
  },
  {
   "cell_type": "markdown",
   "metadata": {
    "slideshow": {
     "slide_type": "subslide"
    }
   },
   "source": [
    "## Solving with Ipopt\n",
    "\n",
    "Install IPopt following http://www.coin-or.org/Ipopt/documentation/node10.html."
   ]
  },
  {
   "cell_type": "code",
   "execution_count": 11,
   "metadata": {
    "collapsed": false
   },
   "outputs": [
    {
     "name": "stdout",
     "output_type": "stream",
     "text": [
      "\n",
      "\n",
      "******************************************************************************\n",
      "This program contains Ipopt, a library for large-scale nonlinear optimization.\n",
      " Ipopt is released as open source code under the Eclipse Public License (EPL).\n",
      "         For more information visit http://projects.coin-or.org/Ipopt\n",
      "******************************************************************************\n",
      "\n",
      "This is Ipopt version 3.12, running with linear solver mumps.\n",
      "NOTE: Other linear solvers might be more efficient (see Ipopt documentation).\n",
      "\n",
      "Number of nonzeros in equality constraint Jacobian...:       11\n",
      "Number of nonzeros in inequality constraint Jacobian.:        0\n",
      "Number of nonzeros in Lagrangian Hessian.............:        5\n",
      "\n",
      "Total number of variables............................:        5\n",
      "                     variables with only lower bounds:        5\n",
      "                variables with lower and upper bounds:        0\n",
      "                     variables with only upper bounds:        0\n",
      "Total number of equality constraints.................:        4\n",
      "Total number of inequality constraints...............:        0\n",
      "        inequality constraints with only lower bounds:        0\n",
      "   inequality constraints with lower and upper bounds:        0\n",
      "        inequality constraints with only upper bounds:        0\n",
      "\n",
      "iter    objective    inf_pr   inf_du lg(mu)  ||d||  lg(rg) alpha_du alpha_pr  ls\n",
      "   0 -1.0724372e+03 2.27e-13 7.24e-02  -1.0 0.00e+00    -  0.00e+00 0.00e+00   0\n",
      "   1 -1.0724372e+03 8.64e-07 1.00e-02  -1.0 2.79e-02    -  9.90e-01 1.00e+00f  1\n",
      "   2 -1.0724372e+03 1.51e-05 7.57e-05  -1.0 1.17e-01    -  9.93e-01 1.00e+00h  1\n",
      "   3 -1.0724372e+03 1.45e-05 2.54e-06  -1.7 1.14e-01    -  1.00e+00 1.00e+00h  1\n",
      "   4 -1.0724372e+03 1.00e-06 1.53e-07  -3.8 3.00e-02    -  1.00e+00 1.00e+00h  1\n",
      "   5 -1.0724372e+03 5.55e-11 2.69e-11  -5.7 2.26e-04    -  1.00e+00 1.00e+00h  1\n",
      "   6 -1.0724372e+03 4.55e-13 2.51e-14  -8.6 2.78e-06    -  1.00e+00 1.00e+00h  1\n",
      "\n",
      "Number of Iterations....: 6\n",
      "\n",
      "                                   (scaled)                 (unscaled)\n",
      "Objective...............:  -1.0724372001086319e+03   -1.0724372001086319e+03\n",
      "Dual infeasibility......:   2.5080209371693448e-14    2.5080209371693448e-14\n",
      "Constraint violation....:   7.4235482863272577e-15    4.5474735088646412e-13\n",
      "Complementarity.........:   2.5059065225801565e-09    2.5059065225801565e-09\n",
      "Overall NLP error.......:   2.5059065225801565e-09    2.5059065225801565e-09\n",
      "\n",
      "\n",
      "Number of objective function evaluations             = 7\n",
      "Number of objective gradient evaluations             = 7\n",
      "Number of equality constraint evaluations            = 7\n",
      "Number of inequality constraint evaluations          = 0\n",
      "Number of equality constraint Jacobian evaluations   = 7\n",
      "Number of inequality constraint Jacobian evaluations = 0\n",
      "Number of Lagrangian Hessian evaluations             = 6\n",
      "Total CPU secs in IPOPT (w/o function evaluations)   =      0.002\n",
      "Total CPU secs in NLP function evaluations           =      0.000\n",
      "\n",
      "EXIT: Optimal Solution Found.\n",
      " \n",
      "Ipopt 3.12: Optimal Solution Found\n",
      "Solution is \n",
      "sv : Size=1, Index=None, Domain=PositiveReals\n",
      "    Key  : Lower : Value         : Upper : Fixed : Stale\n",
      "    None :     0 : 1.34381176107 :  None : False : False\n",
      "ca : Size=1, Index=None, Domain=PositiveReals\n",
      "    Key  : Lower : Value         : Upper : Fixed : Stale\n",
      "    None :     0 : 3874.25886723 :  None : False : False\n",
      "cb : Size=1, Index=None, Domain=PositiveReals\n",
      "    Key  : Lower : Value         : Upper : Fixed : Stale\n",
      "    None :     0 : 1072.43720011 :  None : False : False\n",
      "cc : Size=1, Index=None, Domain=PositiveReals\n",
      "    Key  : Lower : Value         : Upper : Fixed : Stale\n",
      "    None :     0 : 1330.09353341 :  None : False : False\n",
      "cd : Size=1, Index=None, Domain=PositiveReals\n",
      "    Key  : Lower : Value         : Upper : Fixed : Stale\n",
      "    None :     0 : 1861.60519963 :  None : False : False\n"
     ]
    }
   ],
   "source": [
    "opt = SolverFactory(\"ipopt\",solver_io=\"nl\")\n",
    "\n",
    "opt.solve(model,tee=True)\n",
    "\n",
    "print \"Solution is \"\n",
    "model.sv.display()\n",
    "model.ca.display()\n",
    "model.cb.display()\n",
    "model.cc.display()\n",
    "model.cd.display()"
   ]
  },
  {
   "cell_type": "markdown",
   "metadata": {
    "slideshow": {
     "slide_type": "slide"
    }
   },
   "source": [
    "## Black-box optimization problem"
   ]
  },
  {
   "cell_type": "code",
   "execution_count": null,
   "metadata": {
    "collapsed": false
   },
   "outputs": [],
   "source": [
    "import sys\n",
    "from pyomo.opt.blackbox import RealOptProblem\n",
    "\n",
    "class RealProblem1(RealOptProblem):\n",
    "\n",
    "    def __init__(self):\n",
    "        RealOptProblem.__init__(self)\n",
    "        self.lower=[0.0, -1.0, 1.0, None]\n",
    "        self.upper=[None, 0.0, 2.0, -1.0]\n",
    "        self.nvars=4\n",
    "\n",
    "    def function_value(self, point):\n",
    "        self.validate(point)\n",
    "        return point.vars[0] - point.vars[1] + (point.vars[2]-1.5)**2 + (point.vars[3]+2)**4\n",
    "\n",
    "problem = RealProblem1()\n"
   ]
  }
 ],
 "metadata": {
  "celltoolbar": "Slideshow",
  "kernelspec": {
   "display_name": "Python 2",
   "language": "python",
   "name": "python2"
  },
  "language_info": {
   "codemirror_mode": {
    "name": "ipython",
    "version": 2
   },
   "file_extension": ".py",
   "mimetype": "text/x-python",
   "name": "python",
   "nbconvert_exporter": "python",
   "pygments_lexer": "ipython2",
   "version": "2.7.5"
  }
 },
 "nbformat": 4,
 "nbformat_minor": 0
}
