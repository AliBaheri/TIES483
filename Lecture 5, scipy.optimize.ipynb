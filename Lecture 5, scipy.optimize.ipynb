{
 "cells": [
  {
   "cell_type": "markdown",
   "metadata": {
    "slideshow": {
     "slide_type": "slide"
    }
   },
   "source": [
    "# Optimization and root finding (scipy.optimize)\n",
    "\n",
    "```\n",
    "minimize(fun, x0[, args, method, jac, hess, ...]) \tMinimization of scalar function of one or more variables.\n",
    "minimize_scalar(fun[, bracket, bounds, ...]) \tMinimization of scalar function of one variable.\n",
    "OptimizeResult \tRepresents the optimization result.\n",
    "```\n",
    "The minimize function supports the following methods:\n",
    "```\n",
    "    minimize(method=’Nelder-Mead’)\n",
    "    minimize(method=’Powell’)\n",
    "    minimize(method=’CG’)\n",
    "    minimize(method=’BFGS’)\n",
    "    minimize(method=’Newton-CG’)\n",
    "    minimize(method=’L-BFGS-B’)\n",
    "    minimize(method=’TNC’)\n",
    "    minimize(method=’COBYLA’)\n",
    "    minimize(method=’SLSQP’)\n",
    "    minimize(method=’dogleg’)\n",
    "    minimize(method=’trust-ncg’)\n",
    "```\n",
    "The minimize_scalar function supports the following methods:\n",
    "```\n",
    "    minimize_scalar(method=’brent’)\n",
    "    minimize_scalar(method=’bounded’)\n",
    "    minimize_scalar(method=’golden’)\n",
    "```\n",
    "More information at http://docs.scipy.org/doc/scipy/reference/tutorial/optimize.html"
   ]
  },
  {
   "cell_type": "markdown",
   "metadata": {
    "slideshow": {
     "slide_type": "slide"
    }
   },
   "source": [
    "## Optimization of multiple variables"
   ]
  },
  {
   "cell_type": "code",
   "execution_count": 2,
   "metadata": {
    "collapsed": true,
    "slideshow": {
     "slide_type": "-"
    }
   },
   "outputs": [],
   "source": [
    "def f_simple(x):\n",
    "    return (x[0] - 10.0)**2 + (x[1] + 5.0)**2+x[0]**2"
   ]
  },
  {
   "cell_type": "code",
   "execution_count": 21,
   "metadata": {
    "collapsed": false
   },
   "outputs": [
    {
     "name": "stdout",
     "output_type": "stream",
     "text": [
      "Optimization terminated successfully.\n",
      "         Current function value: 50.000000\n",
      "         Iterations: 2\n",
      "         Function evaluations: 20\n",
      "         Gradient evaluations: 5\n",
      "[ 5.00000003 -4.99999999]\n"
     ]
    }
   ],
   "source": [
    "from scipy.optimize import minimize\n",
    "res = minimize(f_simple,[0,0],method='BFGS', \n",
    "         options={'disp': True})\n",
    "print res.x"
   ]
  },
  {
   "cell_type": "code",
   "execution_count": 12,
   "metadata": {
    "collapsed": true,
    "slideshow": {
     "slide_type": "subslide"
    }
   },
   "outputs": [],
   "source": [
    "def rosen(x):\n",
    "    \"\"\"The Rosenbrock function\"\"\"\n",
    "    return sum(100.0*(x[1:]-x[:-1]**2.0)**2.0 + (1-x[:-1])**2.0)"
   ]
  },
  {
   "cell_type": "code",
   "execution_count": 22,
   "metadata": {
    "collapsed": false,
    "scrolled": true
   },
   "outputs": [
    {
     "name": "stdout",
     "output_type": "stream",
     "text": [
      "Optimization terminated successfully.\n",
      "         Current function value: 0.000000\n",
      "         Iterations: 89\n",
      "         Function evaluations: 1162\n",
      "         Gradient evaluations: 166\n",
      "[ 1.00000012  1.00000024  1.00000049  1.00000098  1.00000197]\n"
     ]
    }
   ],
   "source": [
    "import numpy as np\n",
    "x0 = np.array([1.3, 0.7, 0.8, 1.9, 1.2])\n",
    "res = minimize(rosen, x0, method='CG', #Conjugate gradient method\n",
    "               options={'disp': True})\n",
    "print res.x"
   ]
  },
  {
   "cell_type": "markdown",
   "metadata": {
    "slideshow": {
     "slide_type": "slide"
    }
   },
   "source": [
    "## Line search"
   ]
  },
  {
   "cell_type": "code",
   "execution_count": 23,
   "metadata": {
    "collapsed": true,
    "slideshow": {
     "slide_type": "-"
    }
   },
   "outputs": [],
   "source": [
    "def f(x):\n",
    "    return 2+(1-x)**2"
   ]
  },
  {
   "cell_type": "code",
   "execution_count": 26,
   "metadata": {
    "collapsed": false
   },
   "outputs": [
    {
     "data": {
      "text/plain": [
       "  fun: 2.0\n",
       "    x: 0.999999992928981\n",
       " nfev: 44"
      ]
     },
     "execution_count": 26,
     "metadata": {},
     "output_type": "execute_result"
    }
   ],
   "source": [
    "from scipy.optimize import minimize_scalar\n",
    "minimize_scalar(f,method='golden')"
   ]
  },
  {
   "cell_type": "code",
   "execution_count": 27,
   "metadata": {
    "collapsed": false
   },
   "outputs": [
    {
     "data": {
      "text/plain": [
       "  fun: 2.0\n",
       " nfev: 5\n",
       "  nit: 4\n",
       "    x: 0.99999998519"
      ]
     },
     "execution_count": 27,
     "metadata": {},
     "output_type": "execute_result"
    }
   ],
   "source": [
    "minimize_scalar(f,method='brent')"
   ]
  }
 ],
 "metadata": {
  "celltoolbar": "Slideshow",
  "kernelspec": {
   "display_name": "Python 2",
   "language": "python",
   "name": "python2"
  },
  "language_info": {
   "codemirror_mode": {
    "name": "ipython",
    "version": 2
   },
   "file_extension": ".py",
   "mimetype": "text/x-python",
   "name": "python",
   "nbconvert_exporter": "python",
   "pygments_lexer": "ipython2",
   "version": "2.7.5"
  }
 },
 "nbformat": 4,
 "nbformat_minor": 0
}
