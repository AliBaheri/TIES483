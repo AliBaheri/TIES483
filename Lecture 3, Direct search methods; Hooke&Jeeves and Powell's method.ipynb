{
 "cells": [
  {
   "cell_type": "markdown",
   "metadata": {
    "slideshow": {
     "slide_type": "slide"
    }
   },
   "source": [
    "## Optimization problem to be studied"
   ]
  },
  {
   "cell_type": "markdown",
   "metadata": {},
   "source": [
    "We will start studying functions of multiple variables by studying unconstrained optimization problems\n",
    "$$\n",
    "\\begin{align}\n",
    "\\min \\quad &f(x)\\\\\n",
    "\\text{s.t.}\\quad &x\\in \\mathbb R^n\n",
    "\\end{align}  \n",
    "$$"
   ]
  },
  {
   "cell_type": "markdown",
   "metadata": {
    "slideshow": {
     "slide_type": "-"
    }
   },
   "source": [
    "As an example, we study the optimization problem\n",
    "$$\n",
    "\\begin{align}\n",
    "\\min \\quad & (x_1-10)^2+(x_2+5)^2+x_1^2\\\\\n",
    "\\text{s.t.}\\quad &x_1,x_2\\in\\mathbb R\n",
    "\\end{align}  \n",
    "$$\n",
    "This problem is unconstrained, because there are no constraints."
   ]
  },
  {
   "cell_type": "markdown",
   "metadata": {
    "slideshow": {
     "slide_type": "subslide"
    }
   },
   "source": [
    "Now we need to define a function in Python that evaluates that function. That is, we define a two-variable function \n",
    "$$f:(x_1,x_2)\\to (x_1-10)^2+(x_2+5)^2+x_1^2$$"
   ]
  },
  {
   "cell_type": "code",
   "execution_count": 1,
   "metadata": {
    "collapsed": true
   },
   "outputs": [],
   "source": [
    "def f_simple(x):\n",
    "    return (x[0] - 10.0)**2 + (x[1] + 5.0)**2+x[0]**2"
   ]
  },
  {
   "cell_type": "markdown",
   "metadata": {},
   "source": [
    "Now we can call that function"
   ]
  },
  {
   "cell_type": "code",
   "execution_count": 7,
   "metadata": {
    "collapsed": false
   },
   "outputs": [
    {
     "name": "stdout",
     "output_type": "stream",
     "text": [
      "At point (5,-5) the value of the function is  50.0\n"
     ]
    }
   ],
   "source": [
    "print \"At point (5,-5) the value of the function is \",f_simple([5,-5])"
   ]
  },
  {
   "cell_type": "markdown",
   "metadata": {
    "slideshow": {
     "slide_type": "subslide"
    }
   },
   "source": [
    "We can also plot that function"
   ]
  },
  {
   "cell_type": "code",
   "execution_count": 8,
   "metadata": {
    "collapsed": false
   },
   "outputs": [
    {
     "name": "stdout",
     "output_type": "stream",
     "text": [
      "Using matplotlib backend: Qt4Agg\n"
     ]
    }
   ],
   "source": [
    "%matplotlib\n",
    "import numpy as np\n",
    "from pylab import meshgrid\n",
    "import matplotlib.pyplot as plt\n",
    "from mpl_toolkits.mplot3d import Axes3D\n",
    "\n",
    "def plot_2d_function(lb1,lb2,ub1,ub2,f):\n",
    "    x = np.arange(lb1,ub1,0.1)\n",
    "    y = np.arange(lb2,ub2,0.1)\n",
    "    X,Y = meshgrid(x, y) # grid of point\n",
    "    Z = [f([x,y]) for (x,y) in zip (X,Y)] # evaluation of the function on the grid\n",
    "    fig = plt.figure()\n",
    "    ax = fig.gca(projection='3d')\n",
    "    surf = ax.plot_surface(X, Y, Z)\n",
    "    return plt"
   ]
  },
  {
   "cell_type": "code",
   "execution_count": 9,
   "metadata": {
    "collapsed": false
   },
   "outputs": [
    {
     "name": "stderr",
     "output_type": "stream",
     "text": [
      "/usr/lib64/python2.7/site-packages/matplotlib/collections.py:590: FutureWarning: elementwise comparison failed; returning scalar instead, but in the future will perform elementwise comparison\n",
      "  if self._edgecolors == str('face'):\n"
     ]
    },
    {
     "data": {
      "text/plain": [
       "<module 'matplotlib.pyplot' from '/usr/lib64/python2.7/site-packages/matplotlib/pyplot.pyc'>"
      ]
     },
     "execution_count": 9,
     "metadata": {},
     "output_type": "execute_result"
    }
   ],
   "source": [
    "plot_2d_function(3,-7,7,-3,f_simple)"
   ]
  },
  {
   "cell_type": "markdown",
   "metadata": {
    "slideshow": {
     "slide_type": "slide"
    }
   },
   "source": [
    "# Direct search methods\n",
    "\n",
    "Direct search methods (also called pattern search methods) just rely on the function values to find a (local) optimum. Direct search methods consist of a set of  \n",
    "1. exploratory moves that acquire information about the function $f$ in th eneighbourhood of the current solution, and\n",
    "2. pattern moves that attempt to speed up the search using the information acquired in the exploratory moves."
   ]
  },
  {
   "cell_type": "markdown",
   "metadata": {},
   "source": [
    "## Hooke&Jeeves\n",
    "\n",
    "**input:** a minimum step length $L>0$, initial step length $\\epsilon_0$, constant $0<\\delta<1$ for reducing the step length, exploratory step multiplier $\\gamma>1$, and starting solution $x_0$  \n",
    "**output:** an approximation of a local optimum (no guarantees of quality in general cases)  \n",
    "```\n",
    "set epsilon as the initial step length epsilon0\n",
    "set x as the starting solution\n",
    "while epsilon is greater than L:\n",
    "    for each coordinate direction i:\n",
    "        find the smallest of function values by incrementing and reducing the variable value in that coordinate by epsilon, let this value be xi*\n",
    "    if x is the same as (x1*,...,xn*):\n",
    "        reduce epsilon to delta*epsilon\n",
    "    else:\n",
    "        if the value of f at (x1*,...,xn*) is smaller than at x+gamma*((x1*,...,xn*)-x):\n",
    "            set x as (x1*,...xn*)\n",
    "        else:\n",
    "            set x as x+gamma*((x1*,...,xn*)-x)\n",
    "return x\n",
    "        \n",
    "```\n",
    "Thus, the exploratory step of Hooke&Jeeves is performed by incrementing and reducing the variable to each coordinate direction and the pattern move is just a multiplication of the exploratory move.\n",
    "\n",
    "![alt text](images/hooke&Jeeves.svg \"Hooke&Jeeves\")\n"
   ]
  },
  {
   "cell_type": "code",
   "execution_count": 21,
   "metadata": {
    "collapsed": false
   },
   "outputs": [],
   "source": [
    "import copy #Copying vectors\n",
    "import numpy as np #Import vector calculus and much more!\n",
    "def hookejeeves(L,epsilon0,delta,gamma,x0,f):\n",
    "    epsilon = epsilon0\n",
    "    x = np.array(x0)\n",
    "    while epsilon>L:\n",
    "        xtest = np.zeros(len(x))\n",
    "        for coordinate in range(len(x)):\n",
    "            exp_points = [copy.copy(x) for _ in range(3)] #points to be explored\n",
    "            exp_points[0][coordinate]-=epsilon\n",
    "            exp_points[1][coordinate]+=epsilon\n",
    "            f_exp_points = [f(exp_point) for exp_point in exp_points]\n",
    "            min_value = min(f_exp_points)\n",
    "            xtest[coordinate] = exp_points[f_exp_points.index(min_value)][coordinate] #The coordinate value is the one where the minimum is attained\n",
    "        if all(xtest==x):\n",
    "            epsilon = delta*epsilon\n",
    "        else:\n",
    "            if f(xtest)<f(x+gamma*(xtest-x)):\n",
    "                x = xtest\n",
    "            else:\n",
    "                x = x+gamma*(xtest-x)\n",
    "    return x"
   ]
  },
  {
   "cell_type": "code",
   "execution_count": 27,
   "metadata": {
    "collapsed": false
   },
   "outputs": [
    {
     "name": "stdout",
     "output_type": "stream",
     "text": [
      "10000 loops, best of 3: 172 µs per loop\n"
     ]
    }
   ],
   "source": [
    "%timeit hookejeeves(0.001,1,0.1,2,[0,0],f_simple)"
   ]
  },
  {
   "cell_type": "markdown",
   "metadata": {
    "slideshow": {
     "slide_type": "subslide"
    }
   },
   "source": [
    "## Powell's method\n",
    "\n",
    "Powell's method is similar to Hooke&Jeeves, but the first step in exploratory moves is taken to the direction of the last pattern move. This speeds up the convergence in most cases.\n"
   ]
  },
  {
   "cell_type": "code",
   "execution_count": 24,
   "metadata": {
    "collapsed": true
   },
   "outputs": [],
   "source": [
    "import copy\n",
    "import numpy as np\n",
    "def powell(L,epsilon0,delta,gamma,x0,f):\n",
    "    epsilon = epsilon0\n",
    "    exp_direction = np.array([0,1])\n",
    "    x = np.array(x0)\n",
    "    while epsilon>L:\n",
    "        xtest = np.zeros(len(x))\n",
    "        exp_direction2 = np.array([exp_direction[1],-exp_direction[0]]) #Only works in 2d!!\n",
    "        exp_points = [x,x+exp_direction,x-exp_direction,x+exp_direction2,x-exp_direction2]\n",
    "        f_exp_points = [f(exp_point) for exp_point in exp_points]\n",
    "        min_value = min(f_exp_points)\n",
    "        xtest = exp_points[f_exp_points.index(min_value)] #Comparing among all exploratory points\n",
    "        if all(xtest==x):\n",
    "            epsilon = delta*epsilon\n",
    "        else:\n",
    "            if f(xtest)<f(x+gamma*(xtest-x)):\n",
    "                x = xtest\n",
    "            else:\n",
    "                x = x+gamma*(xtest-x)\n",
    "                exp_direction = (xtest-x)/np.linalg.norm(xtest-x)\n",
    "    return x"
   ]
  },
  {
   "cell_type": "code",
   "execution_count": 26,
   "metadata": {
    "collapsed": false
   },
   "outputs": [
    {
     "name": "stdout",
     "output_type": "stream",
     "text": [
      "1000 loops, best of 3: 210 µs per loop\n"
     ]
    }
   ],
   "source": [
    "%timeit powell(0.001,1,0.1,2,[0,0],f_simple)"
   ]
  }
 ],
 "metadata": {
  "celltoolbar": "Slideshow",
  "kernelspec": {
   "display_name": "Python 2",
   "language": "python",
   "name": "python2"
  },
  "language_info": {
   "codemirror_mode": {
    "name": "ipython",
    "version": 2
   },
   "file_extension": ".py",
   "mimetype": "text/x-python",
   "name": "python",
   "nbconvert_exporter": "python",
   "pygments_lexer": "ipython2",
   "version": "2.7.5"
  }
 },
 "nbformat": 4,
 "nbformat_minor": 0
}
